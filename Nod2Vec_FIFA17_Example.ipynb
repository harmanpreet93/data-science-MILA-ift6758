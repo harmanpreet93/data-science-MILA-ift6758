{
  "nbformat": 4,
  "nbformat_minor": 0,
  "metadata": {
    "kernelspec": {
      "display_name": "Python 3",
      "language": "python",
      "name": "python3"
    },
    "language_info": {
      "codemirror_mode": {
        "name": "ipython",
        "version": 3
      },
      "file_extension": ".py",
      "mimetype": "text/x-python",
      "name": "python",
      "nbconvert_exporter": "python",
      "pygments_lexer": "ipython3",
      "version": "3.6.3"
    },
    "colab": {
      "name": "Nod2Vec_FIFA17_My_Example.ipynb",
      "provenance": [],
      "collapsed_sections": [],
      "include_colab_link": true
    }
  },
  "cells": [
    {
      "cell_type": "markdown",
      "metadata": {
        "id": "view-in-github",
        "colab_type": "text"
      },
      "source": [
        "<a href=\"https://colab.research.google.com/github/harmanpreet93/ift6758-data-science/blob/master/Nod2Vec_FIFA17_Example.ipynb\" target=\"_parent\"><img src=\"https://colab.research.google.com/assets/colab-badge.svg\" alt=\"Open In Colab\"/></a>"
      ]
    },
    {
      "cell_type": "code",
      "metadata": {
        "id": "wz3PmchuFSwf",
        "colab_type": "code",
        "colab": {}
      },
      "source": [
        "from google.colab import drive\n",
        "drive.mount('/content/drive')"
      ],
      "execution_count": 0,
      "outputs": []
    },
    {
      "cell_type": "markdown",
      "metadata": {
        "id": "XarIxdt6Eu8X",
        "colab_type": "text"
      },
      "source": [
        "# Node2Vec showcase"
      ]
    },
    {
      "cell_type": "markdown",
      "metadata": {
        "id": "caM_xc8zEu8a",
        "colab_type": "text"
      },
      "source": [
        "This notebook is about showcasing the qualities of the node2vec algorithm aswell as my implementation of it which can be found and pip installed through [this link](https://github.com/eliorc/node2vec).\n",
        "\n",
        "Check out the related [Medium post](https://medium.com/@eliorcohen/node2vec-embeddings-for-graph-data-32a866340fef).\n",
        "\n",
        "Data is taken from https://www.kaggle.com/artimous/complete-fifa-2017-player-dataset-global"
      ]
    },
    {
      "cell_type": "code",
      "metadata": {
        "id": "vsRLRrOjFMJa",
        "colab_type": "code",
        "outputId": "d79d653e-8f8e-43d2-8ede-3ebcf1ae2490",
        "colab": {
          "base_uri": "https://localhost:8080/",
          "height": 51
        }
      },
      "source": [
        "! pip install node2vec"
      ],
      "execution_count": 0,
      "outputs": [
        {
          "output_type": "stream",
          "text": [
            "Installing collected packages: node2vec\n",
            "Successfully installed node2vec-0.3.1\n"
          ],
          "name": "stdout"
        }
      ]
    },
    {
      "cell_type": "code",
      "metadata": {
        "id": "bytXczP_Eu8b",
        "colab_type": "code",
        "colab": {}
      },
      "source": [
        "%matplotlib inline\n",
        "\n",
        "import warnings\n",
        "from text_unidecode import unidecode\n",
        "from collections import deque\n",
        "warnings.filterwarnings('ignore')\n",
        "\n",
        "import sys\n",
        "import pandas as pd\n",
        "from sklearn.manifold import TSNE\n",
        "import numpy as np\n",
        "import networkx as nx\n",
        "import matplotlib.pyplot as plt\n",
        "import matplotlib.patches as mpatches\n",
        "import seaborn as sns\n",
        "from node2vec import Node2Vec\n",
        "\n",
        "sns.set_style('whitegrid')"
      ],
      "execution_count": 0,
      "outputs": []
    },
    {
      "cell_type": "markdown",
      "metadata": {
        "id": "qAGyFKSAEu8e",
        "colab_type": "text"
      },
      "source": [
        "### Data loading and pre processing"
      ]
    },
    {
      "cell_type": "code",
      "metadata": {
        "id": "NNbwG9KLGqgS",
        "colab_type": "code",
        "colab": {}
      },
      "source": [
        "IN_COLAB = 'google.colab' in sys.modules\n",
        "if IN_COLAB:\n",
        "    project_path = \"/content/drive/My Drive/ML_data/nod2vec_FIFA17/\"\n",
        "else:\n",
        "    project_path = \"\""
      ],
      "execution_count": 0,
      "outputs": []
    },
    {
      "cell_type": "code",
      "metadata": {
        "id": "_gqF8kYdEu8f",
        "colab_type": "code",
        "outputId": "e188b1d4-4720-40c2-fd02-847e1e04ea25",
        "colab": {
          "base_uri": "https://localhost:8080/",
          "height": 419
        }
      },
      "source": [
        "# Load data \n",
        "data = pd.read_csv(project_path + 'FullData.csv', usecols=['Name', 'Club', 'Club_Position', 'Rating'])\n",
        "\n",
        "# Lowercase columns for convenience\n",
        "data.columns = list(map(str.lower, data.columns))\n",
        "\n",
        "# Reformat strings: lowercase, ' ' -> '_' and é, ô etc. -> e, o\n",
        "reformat_string = lambda x: unidecode(str.lower(x).replace(' ', '_'))\n",
        "    \n",
        "data['name'] = data['name'].apply(reformat_string)\n",
        "data['club'] = data['club'].apply(reformat_string)\n",
        "\n",
        "# Lowercase position\n",
        "data['club_position'] = data['club_position'].str.lower()\n",
        "\n",
        "# Ignore substitutes and reserves \n",
        "data = data[(data['club_position'] != 'sub') & (data['club_position'] != 'res')]\n",
        "\n",
        "# Fix lcm rcm -> cm cm\n",
        "fix_positions = {'rcm' : 'cm', 'lcm': 'cm', 'rcb': 'cb', 'lcb': 'cb', 'ldm': 'cdm', 'rdm': 'cdm'}\n",
        "data['club_position'] = data['club_position'].apply(lambda x: fix_positions.get(x, x))\n",
        "\n",
        "# For example sake we will keep only 7 clubs\n",
        "clubs = {'real_madrid', 'manchester_utd', \n",
        "         'manchester_city', 'chelsea', 'juventus', \n",
        "         'fc_bayern', 'napoli'}\n",
        "\n",
        "data = data[data['club'].isin(clubs)]\n",
        "\n",
        "\n",
        "# Verify we have 11 player for each team\n",
        "assert all(n_players == 11 for n_players in data.groupby('club')['name'].nunique())\n",
        "\n",
        "data"
      ],
      "execution_count": 0,
      "outputs": [
        {
          "output_type": "execute_result",
          "data": {
            "text/html": [
              "<div>\n",
              "<style scoped>\n",
              "    .dataframe tbody tr th:only-of-type {\n",
              "        vertical-align: middle;\n",
              "    }\n",
              "\n",
              "    .dataframe tbody tr th {\n",
              "        vertical-align: top;\n",
              "    }\n",
              "\n",
              "    .dataframe thead th {\n",
              "        text-align: right;\n",
              "    }\n",
              "</style>\n",
              "<table border=\"1\" class=\"dataframe\">\n",
              "  <thead>\n",
              "    <tr style=\"text-align: right;\">\n",
              "      <th></th>\n",
              "      <th>name</th>\n",
              "      <th>club</th>\n",
              "      <th>club_position</th>\n",
              "      <th>rating</th>\n",
              "    </tr>\n",
              "  </thead>\n",
              "  <tbody>\n",
              "    <tr>\n",
              "      <th>0</th>\n",
              "      <td>cristiano_ronaldo</td>\n",
              "      <td>real_madrid</td>\n",
              "      <td>lw</td>\n",
              "      <td>94</td>\n",
              "    </tr>\n",
              "    <tr>\n",
              "      <th>4</th>\n",
              "      <td>manuel_neuer</td>\n",
              "      <td>fc_bayern</td>\n",
              "      <td>gk</td>\n",
              "      <td>92</td>\n",
              "    </tr>\n",
              "    <tr>\n",
              "      <th>5</th>\n",
              "      <td>de_gea</td>\n",
              "      <td>manchester_utd</td>\n",
              "      <td>gk</td>\n",
              "      <td>90</td>\n",
              "    </tr>\n",
              "    <tr>\n",
              "      <th>6</th>\n",
              "      <td>robert_lewandowski</td>\n",
              "      <td>fc_bayern</td>\n",
              "      <td>st</td>\n",
              "      <td>90</td>\n",
              "    </tr>\n",
              "    <tr>\n",
              "      <th>7</th>\n",
              "      <td>gareth_bale</td>\n",
              "      <td>real_madrid</td>\n",
              "      <td>rw</td>\n",
              "      <td>90</td>\n",
              "    </tr>\n",
              "    <tr>\n",
              "      <th>...</th>\n",
              "      <td>...</td>\n",
              "      <td>...</td>\n",
              "      <td>...</td>\n",
              "      <td>...</td>\n",
              "    </tr>\n",
              "    <tr>\n",
              "      <th>615</th>\n",
              "      <td>marcos_alonso</td>\n",
              "      <td>chelsea</td>\n",
              "      <td>lwb</td>\n",
              "      <td>79</td>\n",
              "    </tr>\n",
              "    <tr>\n",
              "      <th>687</th>\n",
              "      <td>gael_clichy</td>\n",
              "      <td>manchester_city</td>\n",
              "      <td>lb</td>\n",
              "      <td>79</td>\n",
              "    </tr>\n",
              "    <tr>\n",
              "      <th>850</th>\n",
              "      <td>victor_moses</td>\n",
              "      <td>chelsea</td>\n",
              "      <td>rwb</td>\n",
              "      <td>78</td>\n",
              "    </tr>\n",
              "    <tr>\n",
              "      <th>892</th>\n",
              "      <td>willy_caballero</td>\n",
              "      <td>manchester_city</td>\n",
              "      <td>gk</td>\n",
              "      <td>78</td>\n",
              "    </tr>\n",
              "    <tr>\n",
              "      <th>1206</th>\n",
              "      <td>amadou_diawara</td>\n",
              "      <td>napoli</td>\n",
              "      <td>cm</td>\n",
              "      <td>76</td>\n",
              "    </tr>\n",
              "  </tbody>\n",
              "</table>\n",
              "<p>77 rows × 4 columns</p>\n",
              "</div>"
            ],
            "text/plain": [
              "                    name             club club_position  rating\n",
              "0      cristiano_ronaldo      real_madrid            lw      94\n",
              "4           manuel_neuer        fc_bayern            gk      92\n",
              "5                 de_gea   manchester_utd            gk      90\n",
              "6     robert_lewandowski        fc_bayern            st      90\n",
              "7            gareth_bale      real_madrid            rw      90\n",
              "...                  ...              ...           ...     ...\n",
              "615        marcos_alonso          chelsea           lwb      79\n",
              "687          gael_clichy  manchester_city            lb      79\n",
              "850         victor_moses          chelsea           rwb      78\n",
              "892      willy_caballero  manchester_city            gk      78\n",
              "1206      amadou_diawara           napoli            cm      76\n",
              "\n",
              "[77 rows x 4 columns]"
            ]
          },
          "metadata": {
            "tags": []
          },
          "execution_count": 6
        }
      ]
    },
    {
      "cell_type": "markdown",
      "metadata": {
        "id": "hWlRt8fZEu8i",
        "colab_type": "text"
      },
      "source": [
        "Here comes the ugly part.\n",
        "Since we want to put each team of a graph of nodes and edges, I had to hard-code the relationship between the different FIFA 17 formations.\n",
        "\n",
        "Also since some formations have the same role (CB for example) in different positions connected to different players, I first use a distinct name for each role which after the learning process I will trim so the positions will be the same.\n",
        "\n",
        "Finally since position are connected differently in each formation we will add a suffix for the graph presentation and we will trim it also before the Word2vec process\n",
        "\n",
        "Example:\n",
        "\n",
        "`'cb'` will become `'cb_1_real_madrid'` because it is the first CB, in Real Madrid's formation, and before running the Word2Vec algorithm it will be trimmed to `cb` again\n",
        "\n",
        "### Formations"
      ]
    },
    {
      "cell_type": "code",
      "metadata": {
        "id": "Q-3ebxWfTzTx",
        "colab_type": "code",
        "outputId": "c7b0a1a1-c7d5-45e5-c18a-6fb7fd342a1b",
        "colab": {
          "base_uri": "https://localhost:8080/",
          "height": 419
        }
      },
      "source": [
        "data"
      ],
      "execution_count": 0,
      "outputs": [
        {
          "output_type": "execute_result",
          "data": {
            "text/html": [
              "<div>\n",
              "<style scoped>\n",
              "    .dataframe tbody tr th:only-of-type {\n",
              "        vertical-align: middle;\n",
              "    }\n",
              "\n",
              "    .dataframe tbody tr th {\n",
              "        vertical-align: top;\n",
              "    }\n",
              "\n",
              "    .dataframe thead th {\n",
              "        text-align: right;\n",
              "    }\n",
              "</style>\n",
              "<table border=\"1\" class=\"dataframe\">\n",
              "  <thead>\n",
              "    <tr style=\"text-align: right;\">\n",
              "      <th></th>\n",
              "      <th>name</th>\n",
              "      <th>club</th>\n",
              "      <th>club_position</th>\n",
              "      <th>rating</th>\n",
              "    </tr>\n",
              "  </thead>\n",
              "  <tbody>\n",
              "    <tr>\n",
              "      <th>0</th>\n",
              "      <td>cristiano_ronaldo</td>\n",
              "      <td>real_madrid</td>\n",
              "      <td>lw</td>\n",
              "      <td>94</td>\n",
              "    </tr>\n",
              "    <tr>\n",
              "      <th>4</th>\n",
              "      <td>manuel_neuer</td>\n",
              "      <td>fc_bayern</td>\n",
              "      <td>gk</td>\n",
              "      <td>92</td>\n",
              "    </tr>\n",
              "    <tr>\n",
              "      <th>5</th>\n",
              "      <td>de_gea</td>\n",
              "      <td>manchester_utd</td>\n",
              "      <td>gk</td>\n",
              "      <td>90</td>\n",
              "    </tr>\n",
              "    <tr>\n",
              "      <th>6</th>\n",
              "      <td>robert_lewandowski</td>\n",
              "      <td>fc_bayern</td>\n",
              "      <td>st</td>\n",
              "      <td>90</td>\n",
              "    </tr>\n",
              "    <tr>\n",
              "      <th>7</th>\n",
              "      <td>gareth_bale</td>\n",
              "      <td>real_madrid</td>\n",
              "      <td>rw</td>\n",
              "      <td>90</td>\n",
              "    </tr>\n",
              "    <tr>\n",
              "      <th>...</th>\n",
              "      <td>...</td>\n",
              "      <td>...</td>\n",
              "      <td>...</td>\n",
              "      <td>...</td>\n",
              "    </tr>\n",
              "    <tr>\n",
              "      <th>615</th>\n",
              "      <td>marcos_alonso</td>\n",
              "      <td>chelsea</td>\n",
              "      <td>lwb</td>\n",
              "      <td>79</td>\n",
              "    </tr>\n",
              "    <tr>\n",
              "      <th>687</th>\n",
              "      <td>gael_clichy</td>\n",
              "      <td>manchester_city</td>\n",
              "      <td>lb</td>\n",
              "      <td>79</td>\n",
              "    </tr>\n",
              "    <tr>\n",
              "      <th>850</th>\n",
              "      <td>victor_moses</td>\n",
              "      <td>chelsea</td>\n",
              "      <td>rwb</td>\n",
              "      <td>78</td>\n",
              "    </tr>\n",
              "    <tr>\n",
              "      <th>892</th>\n",
              "      <td>willy_caballero</td>\n",
              "      <td>manchester_city</td>\n",
              "      <td>gk</td>\n",
              "      <td>78</td>\n",
              "    </tr>\n",
              "    <tr>\n",
              "      <th>1206</th>\n",
              "      <td>amadou_diawara</td>\n",
              "      <td>napoli</td>\n",
              "      <td>cm</td>\n",
              "      <td>76</td>\n",
              "    </tr>\n",
              "  </tbody>\n",
              "</table>\n",
              "<p>77 rows × 4 columns</p>\n",
              "</div>"
            ],
            "text/plain": [
              "                    name             club club_position  rating\n",
              "0      cristiano_ronaldo      real_madrid            lw      94\n",
              "4           manuel_neuer        fc_bayern            gk      92\n",
              "5                 de_gea   manchester_utd            gk      90\n",
              "6     robert_lewandowski        fc_bayern            st      90\n",
              "7            gareth_bale      real_madrid            rw      90\n",
              "...                  ...              ...           ...     ...\n",
              "615        marcos_alonso          chelsea           lwb      79\n",
              "687          gael_clichy  manchester_city            lb      79\n",
              "850         victor_moses          chelsea           rwb      78\n",
              "892      willy_caballero  manchester_city            gk      78\n",
              "1206      amadou_diawara           napoli            cm      76\n",
              "\n",
              "[77 rows x 4 columns]"
            ]
          },
          "metadata": {
            "tags": []
          },
          "execution_count": 17
        }
      ]
    },
    {
      "cell_type": "code",
      "metadata": {
        "id": "TJl2bIKFTJLA",
        "colab_type": "code",
        "colab": {}
      },
      "source": [
        "graph_n = nx.Graph()\n",
        "\n",
        "graph_n = nx.from_pandas_edgelist( \n",
        "    data,\n",
        "    \"name\",\n",
        "    \"club\",\n",
        ")"
      ],
      "execution_count": 0,
      "outputs": []
    },
    {
      "cell_type": "code",
      "metadata": {
        "id": "rZomMu3dEu8i",
        "colab_type": "code",
        "colab": {}
      },
      "source": [
        "FORMATIONS = {'4-3-3_4': {'gk': ['cb_1', 'cb_2'],                           # Real madrid\n",
        "                          'lb': ['lw', 'cb_1', 'cm_1'],\n",
        "                          'cb_1': ['lb', 'cb_2', 'gk'],\n",
        "                          'cb_2': ['rb', 'cb_1', 'gk'],\n",
        "                          'rb': ['rw', 'cb_2', 'cm_2'],\n",
        "                          'cm_1': ['cam', 'lw', 'cb_1', 'lb'],\n",
        "                          'cm_2': ['cam', 'rw', 'cb_2', 'rb'],\n",
        "                          'cam': ['cm_1', 'cm_2', 'st'],\n",
        "                          'lw': ['cm_1', 'lb', 'st'],\n",
        "                          'rw': ['cm_2', 'rb', 'st'],\n",
        "                          'st': ['cam', 'lw', 'rw']},\n",
        "              '5-2-2-1': {'gk': ['cb_1', 'cb_2', 'cb_3'],                   # Chelsea\n",
        "                          'cb_1': ['gk', 'cb_2', 'lwb'],\n",
        "                          'cb_2': ['gk', 'cb_1', 'cb_3', 'cm_1', 'cb_2'],\n",
        "                          'cb_3': ['gk', 'cb_2', 'rwb'],\n",
        "                          'lwb': ['cb_1', 'cm_1', 'lw'],\n",
        "                          'cm_1': ['lwb', 'cb_2', 'cm_2', 'lw', 'st'],\n",
        "                          'cm_2': ['rwb', 'cb_2', 'cm_1', 'rw', 'st'],\n",
        "                          'rwb': ['cb_3', 'cm_2', 'rw'],\n",
        "                          'lw': ['lwb', 'cm_1', 'st'],\n",
        "                          'st': ['lw', 'cm_1', 'cm_2', 'rw'],\n",
        "                          'rw': ['st', 'rwb', 'cm_2']},\n",
        "              '4-3-3_2': {'gk': ['cb_1', 'cb_2'],                           # Man UTD / CITY\n",
        "                          'lb': ['cb_1', 'cm_1'],\n",
        "                          'cb_1': ['lb', 'cb_2', 'gk', 'cdm'],\n",
        "                          'cb_2': ['rb', 'cb_1', 'gk', 'cdm'],\n",
        "                          'rb': ['cb_2', 'cm_2'],\n",
        "                          'cm_1': ['cdm', 'lw', 'lb', 'st'],\n",
        "                          'cm_2': ['cdm', 'rw', 'st', 'rb'],\n",
        "                          'cdm': ['cm_1', 'cm_2', 'cb_1', 'cb_2'],\n",
        "                          'lw': ['cm_1', 'st'],\n",
        "                          'rw': ['cm_2', 'st'],\n",
        "                          'st': ['cm_1', 'cm_2', 'lw', 'rw']},              # Juventus, Bayern\n",
        "              '4-2-3-1_2': {'gk': ['cb_1', 'cb_2'],\n",
        "                            'lb': ['lm', 'cdm_1', 'cb_1'],\n",
        "                            'cb_1': ['lb', 'cdm_1', 'gk', 'cb_2'],\n",
        "                            'cb_2': ['rb', 'cdm_2', 'gk', 'cb_1'],\n",
        "                            'rb': ['cb_2', 'rm', 'cdm_2'],\n",
        "                            'lm': ['lb', 'cdm_1', 'st', 'cam'],\n",
        "                            'rm': ['rb', 'cdm_2', 'st', 'cam'],\n",
        "                            'cdm_1': ['lm', 'cb_1', 'rb', 'cam'],\n",
        "                            'cdm_2': ['rm', 'cb_2', 'lb', 'cam'],\n",
        "                            'cam': ['cdm_1', 'cdm_2', 'rm', 'lm', 'st'],\n",
        "                            'st': ['lm', 'rm', 'cam']},\n",
        "              '4-3-3': {'gk': ['cb_1', 'cb_2'],                             # Napoli\n",
        "                        'lb': ['cb_1', 'cm_1'],\n",
        "                        'cb_1': ['lb', 'cb_2', 'gk', 'cm_2'],\n",
        "                        'cb_2': ['rb', 'cb_1', 'gk', 'cm_2'],\n",
        "                        'rb': ['cb_2', 'cm_3'],\n",
        "                        'cm_1': ['cm_2', 'lw', 'lb'],\n",
        "                        'cm_3': ['cm_2', 'rw', 'rb'],\n",
        "                        'cm_2': ['cm_1', 'cm_3', 'st', 'cb_1', 'cb_2'],\n",
        "                        'lw': ['cm_1', 'st'],\n",
        "                        'rw': ['cm_3', 'st'],\n",
        "                        'st': ['cm_2', 'lw', 'rw']}}\n"
      ],
      "execution_count": 0,
      "outputs": []
    },
    {
      "cell_type": "markdown",
      "metadata": {
        "id": "CGty6fasEu8l",
        "colab_type": "text"
      },
      "source": [
        "### Creating the graphs for each team"
      ]
    },
    {
      "cell_type": "code",
      "metadata": {
        "id": "Y5ZLn8aOEu8l",
        "colab_type": "code",
        "colab": {}
      },
      "source": [
        "add_club_suffix = lambda x, c: x + '_{}'.format(c)\n",
        "\n",
        "graph = nx.Graph()\n",
        "formatted_positions = set()\n",
        "\n",
        "def club2graph(club_name, formation, graph):\n",
        "    club_data = data[data['club'] == club_name]\n",
        "    \n",
        "    club_formation = FORMATIONS[formation]\n",
        "    \n",
        "    club_positions = dict()\n",
        "    \n",
        "    # Assign positions to players\n",
        "    available_positions = deque(club_formation)\n",
        "    available_players = set(zip(club_data['name'], club_data['club_position']))\n",
        "    \n",
        "    roster = dict()  # Here we will store the assigned players and positions\n",
        "    \n",
        "    while available_positions:\n",
        "        position = available_positions.pop()\n",
        "        name, pos = [(name, position) for name, p in available_players if position.startswith(p)][0]        \n",
        "        \n",
        "        roster[name] = pos\n",
        "        \n",
        "        available_players.remove((name, pos.split('_')[0]))\n",
        "        \n",
        "    reverse_roster = {v: k for k, v in roster.items()}\n",
        "\n",
        "        \n",
        "    # Build the graph\n",
        "    for name, position in roster.items():\n",
        "        # Connect to team name\n",
        "        graph.add_edge(name, club_name)\n",
        "        \n",
        "        # Inter team connections\n",
        "        for teammate_position in club_formation[position]:\n",
        "            # Connect positions\n",
        "            graph.add_edge(add_club_suffix(position, club_name),\n",
        "                           add_club_suffix(teammate_position, club_name))\n",
        "            \n",
        "            # Connect player to teammate positions\n",
        "            graph.add_edge(name,\n",
        "                           add_club_suffix(teammate_position, club_name))\n",
        "            \n",
        "            # Connect player to teammates\n",
        "            graph.add_edge(name, reverse_roster[teammate_position])\n",
        "            \n",
        "            # Save for later trimming\n",
        "            formatted_positions.add(add_club_suffix(position, club_name))\n",
        "            formatted_positions.add(add_club_suffix(teammate_position, club_name))\n",
        "            \n",
        "    return graph"
      ],
      "execution_count": 0,
      "outputs": []
    },
    {
      "cell_type": "code",
      "metadata": {
        "id": "f_ZOshHXEu8o",
        "colab_type": "code",
        "colab": {}
      },
      "source": [
        "teams = [('real_madrid', '4-3-3_4'), \n",
        "         ('chelsea', '5-2-2-1'),\n",
        "         ('manchester_utd', '4-3-3_2'),\n",
        "         ('manchester_city', '4-3-3_2'),\n",
        "         ('juventus', '4-2-3-1_2'),\n",
        "         ('fc_bayern', '4-2-3-1_2'),\n",
        "         ('napoli', '4-3-3')]"
      ],
      "execution_count": 0,
      "outputs": []
    },
    {
      "cell_type": "code",
      "metadata": {
        "id": "8jeRFiriEu8r",
        "colab_type": "code",
        "colab": {}
      },
      "source": [
        "graph = club2graph('real_madrid', '4-3-3_4', graph)\n",
        "\n",
        "for team, formation in teams:\n",
        "    graph = club2graph(team, formation, graph)"
      ],
      "execution_count": 0,
      "outputs": []
    },
    {
      "cell_type": "code",
      "metadata": {
        "id": "zGI9UH_p-KqE",
        "colab_type": "code",
        "colab": {}
      },
      "source": [
        "for e1 in graph_n.edges:\n",
        "    print(e1)"
      ],
      "execution_count": 0,
      "outputs": []
    },
    {
      "cell_type": "code",
      "metadata": {
        "id": "bjDIt-OXKFrI",
        "colab_type": "code",
        "colab": {}
      },
      "source": [
        "# importing networkx  \n",
        "import networkx as nx \n",
        "  \n",
        "# importing matplotlib.pyplot \n",
        "import matplotlib.pyplot as plt \n",
        "\n",
        "nx.draw(graph_n, with_labels=True)\n",
        "# nx.draw_circular(graph_n, with_labels=True)"
      ],
      "execution_count": 0,
      "outputs": []
    },
    {
      "cell_type": "code",
      "metadata": {
        "id": "q77lj3Re6DSM",
        "colab_type": "code",
        "outputId": "bc8074b4-6cf8-40c3-b67f-63b04a820c44",
        "colab": {
          "base_uri": "https://localhost:8080/",
          "height": 54
        }
      },
      "source": [
        "graph.edges"
      ],
      "execution_count": 0,
      "outputs": [
        {
          "output_type": "execute_result",
          "data": {
            "text/plain": [
              "EdgeView([('karim_benzema', 'real_madrid'), ('karim_benzema', 'cam_real_madrid'), ('karim_benzema', 'james_rodriguez'), ('karim_benzema', 'lw_real_madrid'), ('karim_benzema', 'cristiano_ronaldo'), ('karim_benzema', 'rw_real_madrid'), ('karim_benzema', 'gareth_bale'), ('real_madrid', 'gareth_bale'), ('real_madrid', 'cristiano_ronaldo'), ('real_madrid', 'james_rodriguez'), ('real_madrid', 'toni_kroos'), ('real_madrid', 'luka_modric'), ('real_madrid', 'carvajal'), ('real_madrid', 'pepe'), ('real_madrid', 'sergio_ramos'), ('real_madrid', 'marcelo'), ('real_madrid', 'keylor_navas'), ('st_real_madrid', 'cam_real_madrid'), ('st_real_madrid', 'lw_real_madrid'), ('st_real_madrid', 'rw_real_madrid'), ('st_real_madrid', 'gareth_bale'), ('st_real_madrid', 'cristiano_ronaldo'), ('st_real_madrid', 'james_rodriguez'), ('cam_real_madrid', 'cm_1_real_madrid'), ('cam_real_madrid', 'cm_2_real_madrid'), ('cam_real_madrid', 'toni_kroos'), ('cam_real_madrid', 'luka_modric'), ('james_rodriguez', 'cm_1_real_madrid'), ('james_rodriguez', 'luka_modric'), ('james_rodriguez', 'cm_2_real_madrid'), ('james_rodriguez', 'toni_kroos'), ('lw_real_madrid', 'cm_1_real_madrid'), ('lw_real_madrid', 'lb_real_madrid'), ('lw_real_madrid', 'luka_modric'), ('lw_real_madrid', 'marcelo'), ('cristiano_ronaldo', 'cm_1_real_madrid'), ('cristiano_ronaldo', 'luka_modric'), ('cristiano_ronaldo', 'lb_real_madrid'), ('cristiano_ronaldo', 'marcelo'), ('rw_real_madrid', 'cm_2_real_madrid'), ('rw_real_madrid', 'rb_real_madrid'), ('rw_real_madrid', 'toni_kroos'), ('rw_real_madrid', 'carvajal'), ('gareth_bale', 'cm_2_real_madrid'), ('gareth_bale', 'toni_kroos'), ('gareth_bale', 'rb_real_madrid'), ('gareth_bale', 'carvajal'), ('cm_2_real_madrid', 'cb_2_real_madrid'), ('cm_2_real_madrid', 'rb_real_madrid'), ('cm_2_real_madrid', 'carvajal'), ('toni_kroos', 'cb_2_real_madrid'), ('toni_kroos', 'pepe'), ('toni_kroos', 'rb_real_madrid'), ('toni_kroos', 'carvajal'), ('rb_real_madrid', 'cb_2_real_madrid'), ('rb_real_madrid', 'pepe'), ('carvajal', 'cb_2_real_madrid'), ('carvajal', 'pepe'), ('cm_1_real_madrid', 'cb_1_real_madrid'), ('cm_1_real_madrid', 'lb_real_madrid'), ('cm_1_real_madrid', 'marcelo'), ('luka_modric', 'cb_1_real_madrid'), ('luka_modric', 'sergio_ramos'), ('luka_modric', 'lb_real_madrid'), ('luka_modric', 'marcelo'), ('lb_real_madrid', 'cb_1_real_madrid'), ('lb_real_madrid', 'sergio_ramos'), ('marcelo', 'sergio_ramos'), ('marcelo', 'cb_1_real_madrid'), ('cb_2_real_madrid', 'cb_1_real_madrid'), ('cb_2_real_madrid', 'gk_real_madrid'), ('cb_2_real_madrid', 'sergio_ramos'), ('cb_2_real_madrid', 'keylor_navas'), ('pepe', 'cb_1_real_madrid'), ('pepe', 'sergio_ramos'), ('pepe', 'gk_real_madrid'), ('pepe', 'keylor_navas'), ('cb_1_real_madrid', 'gk_real_madrid'), ('cb_1_real_madrid', 'keylor_navas'), ('sergio_ramos', 'gk_real_madrid'), ('sergio_ramos', 'keylor_navas'), ('pedro', 'chelsea'), ('pedro', 'st_chelsea'), ('pedro', 'diego_costa'), ('pedro', 'rwb_chelsea'), ('pedro', 'victor_moses'), ('pedro', 'cm_2_chelsea'), ('pedro', \"n'golo_kante\"), ('chelsea', 'diego_costa'), ('chelsea', 'eden_hazard'), ('chelsea', 'victor_moses'), ('chelsea', \"n'golo_kante\"), ('chelsea', 'nemanja_matic'), ('chelsea', 'marcos_alonso'), ('chelsea', 'azpilicueta'), ('chelsea', 'david_luiz'), ('chelsea', 'gary_cahill'), ('chelsea', 'thibaut_courtois'), ('rw_chelsea', 'st_chelsea'), ('rw_chelsea', 'rwb_chelsea'), ('rw_chelsea', 'cm_2_chelsea'), ('rw_chelsea', 'diego_costa'), ('rw_chelsea', 'victor_moses'), ('rw_chelsea', \"n'golo_kante\"), ('st_chelsea', 'lw_chelsea'), ('st_chelsea', 'cm_1_chelsea'), ('st_chelsea', 'cm_2_chelsea'), ('st_chelsea', 'eden_hazard'), ('st_chelsea', \"n'golo_kante\"), ('st_chelsea', 'nemanja_matic'), ('diego_costa', 'lw_chelsea'), ('diego_costa', 'eden_hazard'), ('diego_costa', 'cm_1_chelsea'), ('diego_costa', 'nemanja_matic'), ('diego_costa', 'cm_2_chelsea'), ('diego_costa', \"n'golo_kante\"), ('rwb_chelsea', 'cb_3_chelsea'), ('rwb_chelsea', 'cm_2_chelsea'), ('rwb_chelsea', \"n'golo_kante\"), ('rwb_chelsea', 'azpilicueta'), ('victor_moses', 'cb_3_chelsea'), ('victor_moses', 'azpilicueta'), ('victor_moses', 'cm_2_chelsea'), ('victor_moses', \"n'golo_kante\"), ('cm_2_chelsea', 'cb_2_chelsea'), ('cm_2_chelsea', 'cm_1_chelsea'), ('cm_2_chelsea', 'nemanja_matic'), (\"n'golo_kante\", 'cb_2_chelsea'), (\"n'golo_kante\", 'david_luiz'), (\"n'golo_kante\", 'cm_1_chelsea'), (\"n'golo_kante\", 'nemanja_matic'), ('lw_chelsea', 'lwb_chelsea'), ('lw_chelsea', 'cm_1_chelsea'), ('lw_chelsea', 'nemanja_matic'), ('lw_chelsea', 'marcos_alonso'), ('eden_hazard', 'lwb_chelsea'), ('eden_hazard', 'marcos_alonso'), ('eden_hazard', 'cm_1_chelsea'), ('eden_hazard', 'nemanja_matic'), ('cm_1_chelsea', 'lwb_chelsea'), ('cm_1_chelsea', 'cb_2_chelsea'), ('cm_1_chelsea', 'marcos_alonso'), ('cm_1_chelsea', 'david_luiz'), ('nemanja_matic', 'lwb_chelsea'), ('nemanja_matic', 'marcos_alonso'), ('nemanja_matic', 'cb_2_chelsea'), ('nemanja_matic', 'david_luiz'), ('lwb_chelsea', 'cb_1_chelsea'), ('lwb_chelsea', 'gary_cahill'), ('marcos_alonso', 'cb_1_chelsea'), ('marcos_alonso', 'gary_cahill'), ('cb_3_chelsea', 'gk_chelsea'), ('cb_3_chelsea', 'cb_2_chelsea'), ('cb_3_chelsea', 'david_luiz'), ('cb_3_chelsea', 'thibaut_courtois'), ('azpilicueta', 'gk_chelsea'), ('azpilicueta', 'thibaut_courtois'), ('azpilicueta', 'cb_2_chelsea'), ('azpilicueta', 'david_luiz'), ('cb_2_chelsea', 'gk_chelsea'), ('cb_2_chelsea', 'cb_1_chelsea'), ('cb_2_chelsea', 'cb_2_chelsea'), ('cb_2_chelsea', 'david_luiz'), ('cb_2_chelsea', 'gary_cahill'), ('cb_2_chelsea', 'thibaut_courtois'), ('david_luiz', 'gk_chelsea'), ('david_luiz', 'thibaut_courtois'), ('david_luiz', 'cb_1_chelsea'), ('david_luiz', 'gary_cahill'), ('david_luiz', 'david_luiz'), ('cb_1_chelsea', 'gk_chelsea'), ('cb_1_chelsea', 'thibaut_courtois'), ('gary_cahill', 'gk_chelsea'), ('gary_cahill', 'thibaut_courtois'), ('zlatan_ibrahimovic', 'manchester_utd'), ('zlatan_ibrahimovic', 'cm_1_manchester_utd'), ('zlatan_ibrahimovic', 'paul_pogba'), ('zlatan_ibrahimovic', 'cm_2_manchester_utd'), ('zlatan_ibrahimovic', 'ander_herrera'), ('zlatan_ibrahimovic', 'lw_manchester_utd'), ('zlatan_ibrahimovic', 'anthony_martial'), ('zlatan_ibrahimovic', 'rw_manchester_utd'), ('zlatan_ibrahimovic', 'henrikh_mkhitaryan'), ('manchester_utd', 'henrikh_mkhitaryan'), ('manchester_utd', 'anthony_martial'), ('manchester_utd', 'michael_carrick'), ('manchester_utd', 'ander_herrera'), ('manchester_utd', 'paul_pogba'), ('manchester_utd', 'antonio_valencia'), ('manchester_utd', 'chris_smalling'), ('manchester_utd', 'eric_bailly'), ('manchester_utd', 'daley_blind'), ('manchester_utd', 'de_gea'), ('st_manchester_utd', 'cm_1_manchester_utd'), ('st_manchester_utd', 'cm_2_manchester_utd'), ('st_manchester_utd', 'lw_manchester_utd'), ('st_manchester_utd', 'rw_manchester_utd'), ('st_manchester_utd', 'henrikh_mkhitaryan'), ('st_manchester_utd', 'anthony_martial'), ('st_manchester_utd', 'ander_herrera'), ('st_manchester_utd', 'paul_pogba'), ('cm_1_manchester_utd', 'lw_manchester_utd'), ('cm_1_manchester_utd', 'anthony_martial'), ('cm_1_manchester_utd', 'cdm_manchester_utd'), ('cm_1_manchester_utd', 'michael_carrick'), ('cm_1_manchester_utd', 'lb_manchester_utd'), ('cm_1_manchester_utd', 'daley_blind'), ('paul_pogba', 'anthony_martial'), ('paul_pogba', 'michael_carrick'), ('paul_pogba', 'cdm_manchester_utd'), ('paul_pogba', 'lw_manchester_utd'), ('paul_pogba', 'lb_manchester_utd'), ('paul_pogba', 'daley_blind'), ('cm_2_manchester_utd', 'rw_manchester_utd'), ('cm_2_manchester_utd', 'henrikh_mkhitaryan'), ('cm_2_manchester_utd', 'cdm_manchester_utd'), ('cm_2_manchester_utd', 'michael_carrick'), ('cm_2_manchester_utd', 'rb_manchester_utd'), ('cm_2_manchester_utd', 'antonio_valencia'), ('ander_herrera', 'henrikh_mkhitaryan'), ('ander_herrera', 'michael_carrick'), ('ander_herrera', 'cdm_manchester_utd'), ('ander_herrera', 'rw_manchester_utd'), ('ander_herrera', 'rb_manchester_utd'), ('ander_herrera', 'antonio_valencia'), ('michael_carrick', 'cb_1_manchester_utd'), ('michael_carrick', 'eric_bailly'), ('michael_carrick', 'cb_2_manchester_utd'), ('michael_carrick', 'chris_smalling'), ('cdm_manchester_utd', 'cb_1_manchester_utd'), ('cdm_manchester_utd', 'cb_2_manchester_utd'), ('cdm_manchester_utd', 'chris_smalling'), ('cdm_manchester_utd', 'eric_bailly'), ('cb_1_manchester_utd', 'cb_2_manchester_utd'), ('cb_1_manchester_utd', 'chris_smalling'), ('cb_1_manchester_utd', 'lb_manchester_utd'), ('cb_1_manchester_utd', 'gk_manchester_utd'), ('cb_1_manchester_utd', 'daley_blind'), ('cb_1_manchester_utd', 'de_gea'), ('eric_bailly', 'chris_smalling'), ('eric_bailly', 'lb_manchester_utd'), ('eric_bailly', 'daley_blind'), ('eric_bailly', 'cb_2_manchester_utd'), ('eric_bailly', 'gk_manchester_utd'), ('eric_bailly', 'de_gea'), ('cb_2_manchester_utd', 'rb_manchester_utd'), ('cb_2_manchester_utd', 'antonio_valencia'), ('cb_2_manchester_utd', 'gk_manchester_utd'), ('cb_2_manchester_utd', 'de_gea'), ('chris_smalling', 'antonio_valencia'), ('chris_smalling', 'rb_manchester_utd'), ('chris_smalling', 'gk_manchester_utd'), ('chris_smalling', 'de_gea'), ('sergio_aguero', 'manchester_city'), ('sergio_aguero', 'cm_1_manchester_city'), ('sergio_aguero', 'kevin_de_bruyne'), ('sergio_aguero', 'cm_2_manchester_city'), ('sergio_aguero', 'david_silva'), ('sergio_aguero', 'lw_manchester_city'), ('sergio_aguero', 'leroy_sane'), ('sergio_aguero', 'rw_manchester_city'), ('sergio_aguero', 'raheem_sterling'), ('manchester_city', 'raheem_sterling'), ('manchester_city', 'leroy_sane'), ('manchester_city', 'yaya_toure'), ('manchester_city', 'david_silva'), ('manchester_city', 'kevin_de_bruyne'), ('manchester_city', 'bacary_sagna'), ('manchester_city', 'nicolas_otamendi'), ('manchester_city', 'john_stones'), ('manchester_city', 'gael_clichy'), ('manchester_city', 'willy_caballero'), ('st_manchester_city', 'cm_1_manchester_city'), ('st_manchester_city', 'cm_2_manchester_city'), ('st_manchester_city', 'lw_manchester_city'), ('st_manchester_city', 'rw_manchester_city'), ('st_manchester_city', 'raheem_sterling'), ('st_manchester_city', 'leroy_sane'), ('st_manchester_city', 'david_silva'), ('st_manchester_city', 'kevin_de_bruyne'), ('cm_1_manchester_city', 'lw_manchester_city'), ('cm_1_manchester_city', 'leroy_sane'), ('cm_1_manchester_city', 'cdm_manchester_city'), ('cm_1_manchester_city', 'yaya_toure'), ('cm_1_manchester_city', 'lb_manchester_city'), ('cm_1_manchester_city', 'gael_clichy'), ('kevin_de_bruyne', 'leroy_sane'), ('kevin_de_bruyne', 'yaya_toure'), ('kevin_de_bruyne', 'cdm_manchester_city'), ('kevin_de_bruyne', 'lw_manchester_city'), ('kevin_de_bruyne', 'lb_manchester_city'), ('kevin_de_bruyne', 'gael_clichy'), ('cm_2_manchester_city', 'rw_manchester_city'), ('cm_2_manchester_city', 'raheem_sterling'), ('cm_2_manchester_city', 'cdm_manchester_city'), ('cm_2_manchester_city', 'yaya_toure'), ('cm_2_manchester_city', 'rb_manchester_city'), ('cm_2_manchester_city', 'bacary_sagna'), ('david_silva', 'raheem_sterling'), ('david_silva', 'yaya_toure'), ('david_silva', 'cdm_manchester_city'), ('david_silva', 'rw_manchester_city'), ('david_silva', 'rb_manchester_city'), ('david_silva', 'bacary_sagna'), ('yaya_toure', 'cb_1_manchester_city'), ('yaya_toure', 'john_stones'), ('yaya_toure', 'cb_2_manchester_city'), ('yaya_toure', 'nicolas_otamendi'), ('cdm_manchester_city', 'cb_1_manchester_city'), ('cdm_manchester_city', 'cb_2_manchester_city'), ('cdm_manchester_city', 'nicolas_otamendi'), ('cdm_manchester_city', 'john_stones'), ('cb_1_manchester_city', 'cb_2_manchester_city'), ('cb_1_manchester_city', 'nicolas_otamendi'), ('cb_1_manchester_city', 'lb_manchester_city'), ('cb_1_manchester_city', 'gk_manchester_city'), ('cb_1_manchester_city', 'gael_clichy'), ('cb_1_manchester_city', 'willy_caballero'), ('john_stones', 'nicolas_otamendi'), ('john_stones', 'lb_manchester_city'), ('john_stones', 'gael_clichy'), ('john_stones', 'cb_2_manchester_city'), ('john_stones', 'gk_manchester_city'), ('john_stones', 'willy_caballero'), ('cb_2_manchester_city', 'rb_manchester_city'), ('cb_2_manchester_city', 'bacary_sagna'), ('cb_2_manchester_city', 'gk_manchester_city'), ('cb_2_manchester_city', 'willy_caballero'), ('nicolas_otamendi', 'bacary_sagna'), ('nicolas_otamendi', 'rb_manchester_city'), ('nicolas_otamendi', 'gk_manchester_city'), ('nicolas_otamendi', 'willy_caballero'), ('gonzalo_higuain', 'juventus'), ('gonzalo_higuain', 'lm_juventus'), ('gonzalo_higuain', 'mario_mandzukic'), ('gonzalo_higuain', 'rm_juventus'), ('gonzalo_higuain', 'juan_cuadrado'), ('gonzalo_higuain', 'cam_juventus'), ('gonzalo_higuain', 'paulo_dybala'), ('juventus', 'paulo_dybala'), ('juventus', 'miralem_pjanic'), ('juventus', 'sami_khedira'), ('juventus', 'juan_cuadrado'), ('juventus', 'mario_mandzukic'), ('juventus', 'stephan_lichtsteiner'), ('juventus', 'leonardo_bonucci'), ('juventus', 'giorgio_chiellini'), ('juventus', 'alex_sandro'), ('juventus', 'gianluigi_buffon'), ('st_juventus', 'lm_juventus'), ('st_juventus', 'rm_juventus'), ('st_juventus', 'cam_juventus'), ('st_juventus', 'paulo_dybala'), ('st_juventus', 'juan_cuadrado'), ('st_juventus', 'mario_mandzukic'), ('lm_juventus', 'cam_juventus'), ('lm_juventus', 'paulo_dybala'), ('lm_juventus', 'cdm_1_juventus'), ('lm_juventus', 'sami_khedira'), ('lm_juventus', 'lb_juventus'), ('lm_juventus', 'alex_sandro'), ('mario_mandzukic', 'paulo_dybala'), ('mario_mandzukic', 'sami_khedira'), ('mario_mandzukic', 'lb_juventus'), ('mario_mandzukic', 'alex_sandro'), ('mario_mandzukic', 'cdm_1_juventus'), ('mario_mandzukic', 'cam_juventus'), ('rm_juventus', 'cam_juventus'), ('rm_juventus', 'paulo_dybala'), ('rm_juventus', 'cdm_2_juventus'), ('rm_juventus', 'miralem_pjanic'), ('rm_juventus', 'rb_juventus'), ('rm_juventus', 'stephan_lichtsteiner'), ('juan_cuadrado', 'paulo_dybala'), ('juan_cuadrado', 'miralem_pjanic'), ('juan_cuadrado', 'rb_juventus'), ('juan_cuadrado', 'stephan_lichtsteiner'), ('juan_cuadrado', 'cdm_2_juventus'), ('juan_cuadrado', 'cam_juventus'), ('cam_juventus', 'cdm_1_juventus'), ('cam_juventus', 'cdm_2_juventus'), ('cam_juventus', 'miralem_pjanic'), ('cam_juventus', 'sami_khedira'), ('paulo_dybala', 'cdm_1_juventus'), ('paulo_dybala', 'sami_khedira'), ('paulo_dybala', 'cdm_2_juventus'), ('paulo_dybala', 'miralem_pjanic'), ('cdm_1_juventus', 'cb_1_juventus'), ('cdm_1_juventus', 'rb_juventus'), ('cdm_1_juventus', 'giorgio_chiellini'), ('cdm_1_juventus', 'lb_juventus'), ('cdm_1_juventus', 'alex_sandro'), ('sami_khedira', 'cb_1_juventus'), ('sami_khedira', 'giorgio_chiellini'), ('sami_khedira', 'rb_juventus'), ('sami_khedira', 'stephan_lichtsteiner'), ('sami_khedira', 'alex_sandro'), ('cdm_2_juventus', 'cb_2_juventus'), ('cdm_2_juventus', 'lb_juventus'), ('cdm_2_juventus', 'rb_juventus'), ('cdm_2_juventus', 'stephan_lichtsteiner'), ('cdm_2_juventus', 'leonardo_bonucci'), ('miralem_pjanic', 'cb_2_juventus'), ('miralem_pjanic', 'leonardo_bonucci'), ('miralem_pjanic', 'lb_juventus'), ('miralem_pjanic', 'alex_sandro'), ('miralem_pjanic', 'stephan_lichtsteiner'), ('cb_2_juventus', 'rb_juventus'), ('cb_2_juventus', 'stephan_lichtsteiner'), ('cb_2_juventus', 'gk_juventus'), ('cb_2_juventus', 'cb_1_juventus'), ('cb_2_juventus', 'giorgio_chiellini'), ('cb_2_juventus', 'gianluigi_buffon'), ('leonardo_bonucci', 'stephan_lichtsteiner'), ('leonardo_bonucci', 'rb_juventus'), ('leonardo_bonucci', 'gk_juventus'), ('leonardo_bonucci', 'gianluigi_buffon'), ('leonardo_bonucci', 'cb_1_juventus'), ('leonardo_bonucci', 'giorgio_chiellini'), ('lb_juventus', 'cb_1_juventus'), ('lb_juventus', 'giorgio_chiellini'), ('alex_sandro', 'giorgio_chiellini'), ('alex_sandro', 'cb_1_juventus'), ('cb_1_juventus', 'gk_juventus'), ('cb_1_juventus', 'gianluigi_buffon'), ('giorgio_chiellini', 'gk_juventus'), ('giorgio_chiellini', 'gianluigi_buffon'), ('robert_lewandowski', 'fc_bayern'), ('robert_lewandowski', 'lm_fc_bayern'), ('robert_lewandowski', 'douglas_costa'), ('robert_lewandowski', 'rm_fc_bayern'), ('robert_lewandowski', 'arjen_robben'), ('robert_lewandowski', 'cam_fc_bayern'), ('robert_lewandowski', 'thomas_muller'), ('fc_bayern', 'thomas_muller'), ('fc_bayern', 'thiago'), ('fc_bayern', 'arturo_vidal'), ('fc_bayern', 'arjen_robben'), ('fc_bayern', 'douglas_costa'), ('fc_bayern', 'philipp_lahm'), ('fc_bayern', 'javi_martinez'), ('fc_bayern', 'mats_hummels'), ('fc_bayern', 'david_alaba'), ('fc_bayern', 'manuel_neuer'), ('st_fc_bayern', 'lm_fc_bayern'), ('st_fc_bayern', 'rm_fc_bayern'), ('st_fc_bayern', 'cam_fc_bayern'), ('st_fc_bayern', 'thomas_muller'), ('st_fc_bayern', 'arjen_robben'), ('st_fc_bayern', 'douglas_costa'), ('lm_fc_bayern', 'cam_fc_bayern'), ('lm_fc_bayern', 'thomas_muller'), ('lm_fc_bayern', 'cdm_1_fc_bayern'), ('lm_fc_bayern', 'arturo_vidal'), ('lm_fc_bayern', 'lb_fc_bayern'), ('lm_fc_bayern', 'david_alaba'), ('douglas_costa', 'thomas_muller'), ('douglas_costa', 'arturo_vidal'), ('douglas_costa', 'lb_fc_bayern'), ('douglas_costa', 'david_alaba'), ('douglas_costa', 'cdm_1_fc_bayern'), ('douglas_costa', 'cam_fc_bayern'), ('rm_fc_bayern', 'cam_fc_bayern'), ('rm_fc_bayern', 'thomas_muller'), ('rm_fc_bayern', 'cdm_2_fc_bayern'), ('rm_fc_bayern', 'thiago'), ('rm_fc_bayern', 'rb_fc_bayern'), ('rm_fc_bayern', 'philipp_lahm'), ('arjen_robben', 'thomas_muller'), ('arjen_robben', 'thiago'), ('arjen_robben', 'rb_fc_bayern'), ('arjen_robben', 'philipp_lahm'), ('arjen_robben', 'cdm_2_fc_bayern'), ('arjen_robben', 'cam_fc_bayern'), ('cam_fc_bayern', 'cdm_1_fc_bayern'), ('cam_fc_bayern', 'cdm_2_fc_bayern'), ('cam_fc_bayern', 'thiago'), ('cam_fc_bayern', 'arturo_vidal'), ('thomas_muller', 'cdm_1_fc_bayern'), ('thomas_muller', 'arturo_vidal'), ('thomas_muller', 'cdm_2_fc_bayern'), ('thomas_muller', 'thiago'), ('cdm_1_fc_bayern', 'cb_1_fc_bayern'), ('cdm_1_fc_bayern', 'rb_fc_bayern'), ('cdm_1_fc_bayern', 'mats_hummels'), ('cdm_1_fc_bayern', 'lb_fc_bayern'), ('cdm_1_fc_bayern', 'david_alaba'), ('arturo_vidal', 'cb_1_fc_bayern'), ('arturo_vidal', 'mats_hummels'), ('arturo_vidal', 'rb_fc_bayern'), ('arturo_vidal', 'philipp_lahm'), ('arturo_vidal', 'david_alaba'), ('cdm_2_fc_bayern', 'cb_2_fc_bayern'), ('cdm_2_fc_bayern', 'lb_fc_bayern'), ('cdm_2_fc_bayern', 'rb_fc_bayern'), ('cdm_2_fc_bayern', 'philipp_lahm'), ('cdm_2_fc_bayern', 'javi_martinez'), ('thiago', 'cb_2_fc_bayern'), ('thiago', 'javi_martinez'), ('thiago', 'lb_fc_bayern'), ('thiago', 'david_alaba'), ('thiago', 'philipp_lahm'), ('cb_2_fc_bayern', 'rb_fc_bayern'), ('cb_2_fc_bayern', 'philipp_lahm'), ('cb_2_fc_bayern', 'gk_fc_bayern'), ('cb_2_fc_bayern', 'cb_1_fc_bayern'), ('cb_2_fc_bayern', 'mats_hummels'), ('cb_2_fc_bayern', 'manuel_neuer'), ('javi_martinez', 'philipp_lahm'), ('javi_martinez', 'rb_fc_bayern'), ('javi_martinez', 'gk_fc_bayern'), ('javi_martinez', 'manuel_neuer'), ('javi_martinez', 'cb_1_fc_bayern'), ('javi_martinez', 'mats_hummels'), ('lb_fc_bayern', 'cb_1_fc_bayern'), ('lb_fc_bayern', 'mats_hummels'), ('david_alaba', 'mats_hummels'), ('david_alaba', 'cb_1_fc_bayern'), ('cb_1_fc_bayern', 'gk_fc_bayern'), ('cb_1_fc_bayern', 'manuel_neuer'), ('mats_hummels', 'gk_fc_bayern'), ('mats_hummels', 'manuel_neuer'), ('dries_mertens', 'napoli'), ('dries_mertens', 'cm_2_napoli'), ('dries_mertens', 'amadou_diawara'), ('dries_mertens', 'lw_napoli'), ('dries_mertens', 'lorenzo_insigne'), ('dries_mertens', 'rw_napoli'), ('dries_mertens', 'jose_callejon'), ('napoli', 'jose_callejon'), ('napoli', 'lorenzo_insigne'), ('napoli', 'amadou_diawara'), ('napoli', 'marek_hamsik'), ('napoli', 'piotr_zielinski'), ('napoli', 'elseid_hysaj'), ('napoli', 'kalidou_koulibaly'), ('napoli', 'raul_albiol'), ('napoli', 'faouzi_ghoulam'), ('napoli', 'jose_reina'), ('st_napoli', 'cm_2_napoli'), ('st_napoli', 'lw_napoli'), ('st_napoli', 'rw_napoli'), ('st_napoli', 'jose_callejon'), ('st_napoli', 'lorenzo_insigne'), ('st_napoli', 'amadou_diawara'), ('cm_2_napoli', 'cm_1_napoli'), ('cm_2_napoli', 'cm_3_napoli'), ('cm_2_napoli', 'cb_1_napoli'), ('cm_2_napoli', 'cb_2_napoli'), ('cm_2_napoli', 'marek_hamsik'), ('cm_2_napoli', 'piotr_zielinski'), ('cm_2_napoli', 'kalidou_koulibaly'), ('cm_2_napoli', 'raul_albiol'), ('amadou_diawara', 'cm_1_napoli'), ('amadou_diawara', 'piotr_zielinski'), ('amadou_diawara', 'cm_3_napoli'), ('amadou_diawara', 'marek_hamsik'), ('amadou_diawara', 'cb_1_napoli'), ('amadou_diawara', 'raul_albiol'), ('amadou_diawara', 'cb_2_napoli'), ('amadou_diawara', 'kalidou_koulibaly'), ('lw_napoli', 'cm_1_napoli'), ('lw_napoli', 'piotr_zielinski'), ('lorenzo_insigne', 'cm_1_napoli'), ('lorenzo_insigne', 'piotr_zielinski'), ('rw_napoli', 'cm_3_napoli'), ('rw_napoli', 'marek_hamsik'), ('jose_callejon', 'cm_3_napoli'), ('jose_callejon', 'marek_hamsik'), ('cm_3_napoli', 'rb_napoli'), ('cm_3_napoli', 'elseid_hysaj'), ('marek_hamsik', 'rb_napoli'), ('marek_hamsik', 'elseid_hysaj'), ('cm_1_napoli', 'lb_napoli'), ('cm_1_napoli', 'faouzi_ghoulam'), ('piotr_zielinski', 'lb_napoli'), ('piotr_zielinski', 'faouzi_ghoulam'), ('cb_1_napoli', 'cb_2_napoli'), ('cb_1_napoli', 'kalidou_koulibaly'), ('cb_1_napoli', 'lb_napoli'), ('cb_1_napoli', 'gk_napoli'), ('cb_1_napoli', 'faouzi_ghoulam'), ('cb_1_napoli', 'jose_reina'), ('raul_albiol', 'kalidou_koulibaly'), ('raul_albiol', 'lb_napoli'), ('raul_albiol', 'faouzi_ghoulam'), ('raul_albiol', 'cb_2_napoli'), ('raul_albiol', 'gk_napoli'), ('raul_albiol', 'jose_reina'), ('cb_2_napoli', 'rb_napoli'), ('cb_2_napoli', 'elseid_hysaj'), ('cb_2_napoli', 'gk_napoli'), ('cb_2_napoli', 'jose_reina'), ('kalidou_koulibaly', 'elseid_hysaj'), ('kalidou_koulibaly', 'rb_napoli'), ('kalidou_koulibaly', 'gk_napoli'), ('kalidou_koulibaly', 'jose_reina')])"
            ]
          },
          "metadata": {
            "tags": []
          },
          "execution_count": 48
        }
      ]
    },
    {
      "cell_type": "markdown",
      "metadata": {
        "id": "wnGCB6TlEu8u",
        "colab_type": "text"
      },
      "source": [
        "### Node2Vec algorithm"
      ]
    },
    {
      "cell_type": "code",
      "metadata": {
        "id": "LbdaQBDTEu8v",
        "colab_type": "code",
        "outputId": "6ad0eaa8-56cc-4824-856d-ba8f6bfad145",
        "colab": {
          "base_uri": "https://localhost:8080/",
          "height": 34
        }
      },
      "source": [
        "node2vec = Node2Vec(graph, dimensions=128, walk_length=8, num_walks=50, workers=4)"
      ],
      "execution_count": 0,
      "outputs": [
        {
          "output_type": "stream",
          "text": [
            "Computing transition probabilities: 100%|██████████| 161/161 [00:00<00:00, 2459.42it/s]\n"
          ],
          "name": "stderr"
        }
      ]
    },
    {
      "cell_type": "code",
      "metadata": {
        "id": "j5yzCWfdEu8x",
        "colab_type": "code",
        "colab": {}
      },
      "source": [
        "fix_formatted_positions = lambda x: x.split('_')[0] if x in formatted_positions else x\n",
        "reformatted_walks = [list(map(fix_formatted_positions, walk)) for walk in node2vec.walks]\n",
        "node2vec.walks = reformatted_walks"
      ],
      "execution_count": 0,
      "outputs": []
    },
    {
      "cell_type": "code",
      "metadata": {
        "id": "bqUv_FhaEu8y",
        "colab_type": "code",
        "colab": {}
      },
      "source": [
        "model = node2vec.fit(window=10, min_count=1, iter=50)"
      ],
      "execution_count": 0,
      "outputs": []
    },
    {
      "cell_type": "markdown",
      "metadata": {
        "id": "L2OGNctPEu80",
        "colab_type": "text"
      },
      "source": [
        "#### Most similar nodes"
      ]
    },
    {
      "cell_type": "code",
      "metadata": {
        "id": "4GAd92fEVLe0",
        "colab_type": "code",
        "outputId": "fdad3f63-45d6-42ef-daa2-201007740711",
        "colab": {
          "base_uri": "https://localhost:8080/",
          "height": 187
        }
      },
      "source": [
        "model.most_similar(\"real_madrid\")"
      ],
      "execution_count": 0,
      "outputs": [
        {
          "output_type": "execute_result",
          "data": {
            "text/plain": [
              "[('pepe', 0.7784209847450256),\n",
              " ('sergio_ramos', 0.7310812473297119),\n",
              " ('carvajal', 0.6952682733535767),\n",
              " ('toni_kroos', 0.6851989030838013),\n",
              " ('keylor_navas', 0.6612115502357483),\n",
              " ('gareth_bale', 0.6532031297683716),\n",
              " ('luka_modric', 0.6521620750427246),\n",
              " ('marcelo', 0.6359331607818604),\n",
              " ('james_rodriguez', 0.6253882646560669),\n",
              " ('karim_benzema', 0.6125375032424927)]"
            ]
          },
          "metadata": {
            "tags": []
          },
          "execution_count": 65
        }
      ]
    },
    {
      "cell_type": "code",
      "metadata": {
        "id": "cdjP7HJYEu81",
        "colab_type": "code",
        "outputId": "ee702464-6a4c-48a5-90b3-09b465ba86b6",
        "colab": {
          "base_uri": "https://localhost:8080/",
          "height": 187
        }
      },
      "source": [
        "for node, _ in model.most_similar('cristiano_ronaldo', topn=11):\n",
        "    # Show only players\n",
        "    if len(node) > 3:\n",
        "        print(node)"
      ],
      "execution_count": 0,
      "outputs": [
        {
          "output_type": "stream",
          "text": [
            "james_rodriguez\n",
            "luka_modric\n",
            "marcelo\n",
            "karim_benzema\n",
            "gareth_bale\n",
            "real_madrid\n",
            "sergio_ramos\n",
            "keylor_navas\n",
            "carvajal\n",
            "toni_kroos\n"
          ],
          "name": "stdout"
        }
      ]
    },
    {
      "cell_type": "code",
      "metadata": {
        "id": "QIG8iCHOEu83",
        "colab_type": "code",
        "outputId": "59ac3a09-beeb-482d-b9d6-a44467078cd1",
        "colab": {
          "base_uri": "https://localhost:8080/",
          "height": 153
        }
      },
      "source": [
        "for node, _ in model.most_similar('gk', topn=10):\n",
        "    # Show only players\n",
        "    if len(node) > 3:\n",
        "        print(node)"
      ],
      "execution_count": 0,
      "outputs": [
        {
          "output_type": "stream",
          "text": [
            "thibaut_courtois\n",
            "willy_caballero\n",
            "jose_reina\n",
            "gianluigi_buffon\n",
            "manuel_neuer\n",
            "keylor_navas\n",
            "david_luiz\n",
            "de_gea\n"
          ],
          "name": "stdout"
        }
      ]
    },
    {
      "cell_type": "markdown",
      "metadata": {
        "id": "QJw7s1Q4Eu89",
        "colab_type": "text"
      },
      "source": [
        "#### Visualization"
      ]
    },
    {
      "cell_type": "code",
      "metadata": {
        "id": "1RWsrTfqEu8-",
        "colab_type": "code",
        "colab": {}
      },
      "source": [
        "player_nodes = [x for x in model.wv.vocab if len(x) > 3 and x not in clubs]\n",
        "embeddings = np.array([model.wv[x] for x in player_nodes])"
      ],
      "execution_count": 0,
      "outputs": []
    },
    {
      "cell_type": "code",
      "metadata": {
        "id": "SfjFh90EEu9A",
        "colab_type": "code",
        "colab": {}
      },
      "source": [
        "tsne = TSNE(n_components=2, random_state=7, perplexity=15)\n",
        "embeddings_2d = tsne.fit_transform(embeddings)"
      ],
      "execution_count": 0,
      "outputs": []
    },
    {
      "cell_type": "code",
      "metadata": {
        "id": "Mjky9qDcEu9B",
        "colab_type": "code",
        "colab": {}
      },
      "source": [
        "# Assign colors to players\n",
        "team_colors = {\n",
        "    'real_madrid': 'lightblue',\n",
        "    'chelsea': 'b',\n",
        "    'manchester_utd': 'r',\n",
        "    'manchester_city': 'teal',\n",
        "    'juventus': 'gainsboro',\n",
        "    'napoli': 'deepskyblue',\n",
        "    'fc_bayern': 'tomato' \n",
        "}\n",
        "\n",
        "data['color'] = data['club'].apply(lambda x: team_colors[x])\n",
        "player_colors = dict(zip(data['name'], data['color']))\n",
        "colors = [player_colors[x] for x in player_nodes]"
      ],
      "execution_count": 0,
      "outputs": []
    },
    {
      "cell_type": "code",
      "metadata": {
        "id": "eTIgnZGCEu9F",
        "colab_type": "code",
        "outputId": "4fc4a916-b2f4-4855-f173-ac956e79be66",
        "colab": {
          "base_uri": "https://localhost:8080/",
          "height": 537
        }
      },
      "source": [
        "figure = plt.figure(figsize=(11, 9))\n",
        "\n",
        "ax = figure.add_subplot(111)\n",
        "\n",
        "ax.scatter(embeddings_2d[:, 0], embeddings_2d[:, 1], c=colors)\n",
        "\n",
        "# Create team patches for legend\n",
        "team_patches = [mpatches.Patch(color=color, label=team) for team, color in team_colors.items()]\n",
        "ax.legend(handles=team_patches);"
      ],
      "execution_count": 0,
      "outputs": [
        {
          "output_type": "display_data",
          "data": {
            "image/png": "[encoded data removed]",
            "text/plain": [
              "<Figure size 792x648 with 1 Axes>"
            ]
          },
          "metadata": {
            "tags": []
          }
        }
      ]
    },
    {
      "cell_type": "code",
      "metadata": {
        "id": "R-wCLiRlW2V3",
        "colab_type": "code",
        "colab": {}
      },
      "source": [
        ""
      ],
      "execution_count": 0,
      "outputs": []
    }
  ]
}